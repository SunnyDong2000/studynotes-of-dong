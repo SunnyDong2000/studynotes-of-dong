{
 "cells": [
  {
   "cell_type": "code",
   "execution_count": 1,
   "metadata": {},
   "outputs": [
    {
     "data": {
      "text/plain": [
       "'1.1.0'"
      ]
     },
     "execution_count": 1,
     "metadata": {},
     "output_type": "execute_result"
    }
   ],
   "source": [
    "import numpy as np\n",
    "import torch\n",
    "torch.__version__"
   ]
  },
  {
   "cell_type": "markdown",
   "metadata": {},
   "source": [
    "张量创建"
   ]
  },
  {
   "cell_type": "code",
   "execution_count": 2,
   "metadata": {},
   "outputs": [
    {
     "name": "stdout",
     "output_type": "stream",
     "text": [
      "tensor([[9.3674e-39, 1.0929e-38, 1.0469e-38],\n",
      "        [8.4490e-39, 1.0102e-38, 9.0919e-39],\n",
      "        [1.0102e-38, 8.9082e-39, 8.4489e-39],\n",
      "        [1.0102e-38, 1.0561e-38, 1.0286e-38],\n",
      "        [1.0653e-38, 1.0469e-38, 9.5510e-39]])\n"
     ]
    }
   ],
   "source": [
    "#创建一个 5x3 矩阵, 但是未初始化:\n",
    "x = torch.empty(5, 3)\n",
    "print(x)"
   ]
  },
  {
   "cell_type": "code",
   "execution_count": 3,
   "metadata": {},
   "outputs": [
    {
     "name": "stdout",
     "output_type": "stream",
     "text": [
      "tensor([[0.5355, 0.0090, 0.4239],\n",
      "        [0.2559, 0.1107, 0.1981],\n",
      "        [0.5081, 0.1923, 0.2689],\n",
      "        [0.5087, 0.8546, 0.7561],\n",
      "        [0.1393, 0.3418, 0.8746]])\n"
     ]
    }
   ],
   "source": [
    "#创建一个随机初始化的矩阵\n",
    "x = torch.rand(5, 3)\n",
    "print(x)"
   ]
  },
  {
   "cell_type": "code",
   "execution_count": 4,
   "metadata": {},
   "outputs": [
    {
     "name": "stdout",
     "output_type": "stream",
     "text": [
      "tensor([[0, 0, 0],\n",
      "        [0, 0, 0],\n",
      "        [0, 0, 0],\n",
      "        [0, 0, 0],\n",
      "        [0, 0, 0]])\n"
     ]
    }
   ],
   "source": [
    "#创建一个0填充的矩阵，数据类型为long\n",
    "x = torch.zeros(5, 3, dtype=torch.long)\n",
    "print(x)"
   ]
  },
  {
   "cell_type": "code",
   "execution_count": 5,
   "metadata": {},
   "outputs": [
    {
     "name": "stdout",
     "output_type": "stream",
     "text": [
      "tensor([5.5000, 3.0000])\n"
     ]
    }
   ],
   "source": [
    "#创建tensor并使用现有数据初始化\n",
    "x = torch.tensor([5.5, 3])\n",
    "print(x)"
   ]
  },
  {
   "cell_type": "code",
   "execution_count": 6,
   "metadata": {},
   "outputs": [
    {
     "name": "stdout",
     "output_type": "stream",
     "text": [
      "tensor([[1., 1., 1.],\n",
      "        [1., 1., 1.],\n",
      "        [1., 1., 1.],\n",
      "        [1., 1., 1.],\n",
      "        [1., 1., 1.]], dtype=torch.float64)\n",
      "tensor([[-1.6021e-01, -1.2667e+00,  7.6505e-02],\n",
      "        [ 4.0681e-01,  5.8928e-01,  2.9419e+00],\n",
      "        [ 3.9013e-01, -1.0448e+00, -1.7985e-03],\n",
      "        [ 4.4175e-01, -5.1872e-01, -1.0271e-01],\n",
      "        [ 1.6678e+00,  7.7402e-01, -2.1551e+00]])\n"
     ]
    }
   ],
   "source": [
    "#根据现有的张量创建张量。 这些方法将重用输入张量的属性，例如， dtype，除非设置新的值进行覆盖\n",
    "x = x.new_ones(5, 3, dtype=torch.double)      # new_* 方法来创建对象\n",
    "print(x)\n",
    "x = torch.randn_like(x, dtype=torch.float)    # 覆盖 dtype!\n",
    "print(x)                                      # 对象的size 是相同的，只是值和类型发生了变化"
   ]
  },
  {
   "cell_type": "code",
   "execution_count": 7,
   "metadata": {},
   "outputs": [
    {
     "name": "stdout",
     "output_type": "stream",
     "text": [
      "torch.Size([5, 3])\n"
     ]
    }
   ],
   "source": [
    "#torch.Size返回值是tuple类型, 所以它支持tuple类型的所有操作.\n",
    "print(x.size())"
   ]
  },
  {
   "cell_type": "markdown",
   "metadata": {},
   "source": [
    "张量加法"
   ]
  },
  {
   "cell_type": "code",
   "execution_count": 8,
   "metadata": {},
   "outputs": [
    {
     "name": "stdout",
     "output_type": "stream",
     "text": [
      "tensor([[ 0.0199, -0.5166,  0.6921],\n",
      "        [ 0.5889,  1.5345,  3.7575],\n",
      "        [ 0.7733, -0.2731,  0.4068],\n",
      "        [ 0.9219,  0.1965,  0.8221],\n",
      "        [ 1.6803,  0.9355, -1.1872]])\n",
      "tensor([[ 0.0199, -0.5166,  0.6921],\n",
      "        [ 0.5889,  1.5345,  3.7575],\n",
      "        [ 0.7733, -0.2731,  0.4068],\n",
      "        [ 0.9219,  0.1965,  0.8221],\n",
      "        [ 1.6803,  0.9355, -1.1872]])\n",
      "tensor([[ 0.0199, -0.5166,  0.6921],\n",
      "        [ 0.5889,  1.5345,  3.7575],\n",
      "        [ 0.7733, -0.2731,  0.4068],\n",
      "        [ 0.9219,  0.1965,  0.8221],\n",
      "        [ 1.6803,  0.9355, -1.1872]])\n"
     ]
    }
   ],
   "source": [
    "#加法\n",
    "y = torch.rand(5, 3)\n",
    "print(x + y)\n",
    "print(torch.add(x, y))\n",
    "\n",
    "#存储到result中\n",
    "result = torch.empty(5, 3)\n",
    "torch.add(x, y, out=result)\n",
    "print(result)"
   ]
  },
  {
   "cell_type": "code",
   "execution_count": 9,
   "metadata": {},
   "outputs": [
    {
     "name": "stdout",
     "output_type": "stream",
     "text": [
      "tensor([[ 0.0199, -0.5166,  0.6921],\n",
      "        [ 0.5889,  1.5345,  3.7575],\n",
      "        [ 0.7733, -0.2731,  0.4068],\n",
      "        [ 0.9219,  0.1965,  0.8221],\n",
      "        [ 1.6803,  0.9355, -1.1872]])\n"
     ]
    }
   ],
   "source": [
    "#替换\n",
    "# adds x to y\n",
    "y.add_(x)\n",
    "print(y)\n",
    "#任何以_结尾的操作都会用结果替换原变量，例如x.copy_(y)，x.t_()，都会改变x"
   ]
  },
  {
   "cell_type": "markdown",
   "metadata": {},
   "source": [
    "张量维度"
   ]
  },
  {
   "cell_type": "code",
   "execution_count": 10,
   "metadata": {},
   "outputs": [
    {
     "name": "stdout",
     "output_type": "stream",
     "text": [
      "tensor([-1.2667,  0.5893, -1.0448, -0.5187,  0.7740])\n"
     ]
    }
   ],
   "source": [
    "#张量索引\n",
    "print(x[:, 1])"
   ]
  },
  {
   "cell_type": "code",
   "execution_count": 11,
   "metadata": {},
   "outputs": [
    {
     "name": "stdout",
     "output_type": "stream",
     "text": [
      "torch.Size([4, 4]) torch.Size([16]) torch.Size([2, 8])\n"
     ]
    }
   ],
   "source": [
    "#改变维度\n",
    "x = torch.randn(4, 4)\n",
    "y = x.view(16)\n",
    "z = x.view(-1, 8)  #  size -1：从其他维度推断\n",
    "print(x.size(), y.size(), z.size())"
   ]
  },
  {
   "cell_type": "code",
   "execution_count": 12,
   "metadata": {},
   "outputs": [
    {
     "name": "stdout",
     "output_type": "stream",
     "text": [
      "tensor([-2.1211])\n",
      "-2.121086835861206\n"
     ]
    }
   ],
   "source": [
    "#读取张量元素值\n",
    "x = torch.randn(1)\n",
    "print(x)\n",
    "print(x.item())"
   ]
  },
  {
   "cell_type": "markdown",
   "metadata": {},
   "source": [
    "numpy与tensor互转"
   ]
  },
  {
   "cell_type": "code",
   "execution_count": 13,
   "metadata": {},
   "outputs": [
    {
     "name": "stdout",
     "output_type": "stream",
     "text": [
      "tensor([1., 1., 1., 1., 1.])\n",
      "[1. 1. 1. 1. 1.]\n",
      "tensor([2., 2., 2., 2., 2.])\n",
      "[2. 2. 2. 2. 2.]\n"
     ]
    }
   ],
   "source": [
    "#tensor转numpy\n",
    "a = torch.ones(5)\n",
    "print(a)\n",
    "b = a.numpy()\n",
    "print(b)\n",
    "#观察a和b的值如何转变\n",
    "a.add_(1)\n",
    "print(a)\n",
    "print(b)\n",
    "#共用同一块内存空间"
   ]
  },
  {
   "cell_type": "code",
   "execution_count": 14,
   "metadata": {},
   "outputs": [
    {
     "name": "stdout",
     "output_type": "stream",
     "text": [
      "[1. 1. 1. 1. 1.]\n",
      "tensor([1., 1., 1., 1., 1.], dtype=torch.float64)\n",
      "[2. 2. 2. 2. 2.]\n",
      "tensor([2., 2., 2., 2., 2.], dtype=torch.float64)\n"
     ]
    }
   ],
   "source": [
    "#numpy转tensor\n",
    "a = np.ones(5)\n",
    "print(a)\n",
    "b = torch.from_numpy(a)\n",
    "print(b)\n",
    "#观察a和b的值如何转变\n",
    "np.add(a, 1, out=a)\n",
    "print(a)\n",
    "print(b)"
   ]
  },
  {
   "cell_type": "markdown",
   "metadata": {},
   "source": [
    "移动tensor"
   ]
  },
  {
   "cell_type": "code",
   "execution_count": 15,
   "metadata": {},
   "outputs": [
    {
     "name": "stdout",
     "output_type": "stream",
     "text": [
      "torch.FloatTensor\n",
      "tensor([[1., 1., 1.],\n",
      "        [1., 1., 1.]])\n",
      "torch.cuda.FloatTensor\n",
      "tensor([[1., 1., 1.],\n",
      "        [1., 1., 1.]], device='cuda:0')\n",
      "tensor([[1., 1., 1.],\n",
      "        [1., 1., 1.]])\n",
      "torch.FloatTensor\n"
     ]
    }
   ],
   "source": [
    "#cpu和gpu互相转换\n",
    "a = torch.ones(2,3)\n",
    "print(a.type())\n",
    "print(a)\n",
    "if torch.cuda.is_available():\n",
    "    b = a.cuda()\n",
    "    print(b.type())\n",
    "    print(b)\n",
    "    \n",
    "    print(b.cpu())\n",
    "    print(b.cpu().type())\n",
    "    \n",
    "else:\n",
    "    print(\"无可用的cuda\")"
   ]
  },
  {
   "cell_type": "code",
   "execution_count": 16,
   "metadata": {},
   "outputs": [
    {
     "name": "stdout",
     "output_type": "stream",
     "text": [
      "tensor([-1.1211], device='cuda:0')\n",
      "tensor([-1.1211], dtype=torch.float64)\n"
     ]
    }
   ],
   "source": [
    "#,to移动到任何设备\n",
    "# is_available 函数判断是否有cuda可以使用\n",
    "# ``torch.device``将张量移动到指定的设备中\n",
    "if torch.cuda.is_available():\n",
    "    device = torch.device(\"cuda\")          # a CUDA 设备对象\n",
    "    y = torch.ones_like(x, device=device)  # 直接从GPU创建张量\n",
    "    x = x.to(device)                       # 或者直接使用``.to(\"cuda\")``将张量移动到cuda中\n",
    "    z = x + y\n",
    "    print(z)\n",
    "    print(z.to(\"cpu\", torch.double))       # ``.to`` 也会对变量的类型做更改\n",
    "else:\n",
    "    print(\"无可用的cuda\")"
   ]
  }
 ],
 "metadata": {
  "kernelspec": {
   "display_name": "Python 3 (ipykernel)",
   "language": "python",
   "name": "python3"
  },
  "language_info": {
   "codemirror_mode": {
    "name": "ipython",
    "version": 3
   },
   "file_extension": ".py",
   "mimetype": "text/x-python",
   "name": "python",
   "nbconvert_exporter": "python",
   "pygments_lexer": "ipython3",
   "version": "3.7.13"
  }
 },
 "nbformat": 4,
 "nbformat_minor": 4
}
