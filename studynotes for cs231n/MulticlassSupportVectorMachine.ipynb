{
 "cells": [
  {
   "cell_type": "code",
   "execution_count": 1,
   "metadata": {},
   "outputs": [],
   "source": [
    "import numpy as np\n",
    "import heapq"
   ]
  },
  {
   "cell_type": "code",
   "execution_count": 2,
   "metadata": {},
   "outputs": [],
   "source": [
    "#解码数据集 函数为CIFAR-10提供的python3版本\n",
    "def unpickle(file):\n",
    "    import pickle\n",
    "    with open(file, 'rb') as fo:\n",
    "        dict = pickle.load(fo, encoding='bytes')\n",
    "    return dict\n",
    "\n",
    "#创建训练集和测试集\n",
    "def CreatData(path):\n",
    "    #依次加载CIFAR-10的5个batch_data,并将其合并为traindata和traindlabels\n",
    "    x=[]\n",
    "    y=[]\n",
    "    for i in range(1,6):\n",
    "        batch_path=path + 'data_batch_%d'%(i) #每个batch的地址\n",
    "        batch_dict=unpickle(batch_path) #解码每个batch\n",
    "        train_batch=batch_dict[b'data'].astype('float') #将每个batch的data部分以float形式存储于train_batch变量\n",
    "        train_labels=np.array(batch_dict[b'labels']) #将每个batch的label部分以np.array的形式存储于train_labels变量\n",
    "        x.append(train_batch)\n",
    "        y.append(train_labels)\n",
    "    #将5个训练样本batch(10000,3072)合并为(50000,3072)，标签合并为(50000,1)\n",
    "    #np.concatenate默认axis=0:按行合并，axis=1则为:按列合并\n",
    "    traindata=np.concatenate(x)\n",
    "    trainlabels=np.concatenate(y)\n",
    "    \n",
    "    #加载测试集\n",
    "    testpath=path + 'test_batch' #test_batch的地址\n",
    "    test_dict=unpickle(testpath) #解码test_batch\n",
    "    testdata=test_dict[b'data'].astype('float') #将test_dict的data部分以float形式存储于testdata变量\n",
    "    testlabels=np.array(test_dict[b'labels']) #将test_dict的labels部分以np.array形式存储于testlabels变量\n",
    "    \n",
    "    #将训练集数据、训练集标签、测试集数据、测试集标签返回\n",
    "    return traindata,trainlabels,testdata,testlabels\n",
    "\n",
    "class MulticlassSVM:\n",
    "    def __init__(self):\n",
    "        pass\n",
    "    def loaddata(self,traindata,trainlabels):\n",
    "        #得到训练集图像数目\n",
    "        self.imgnum = traindata.shape[0] #本CIFAR-10数据集读取后traindata.shape=(50000,3072)，50000为图像数目，3072为图像RGB三通道总像素数\n",
    "        self.classnum = np.max(trainlabels) + 1 #统计数据集中有多少个类，CIFAR-10为10个分类(0至9)\n",
    "        \n",
    "        #为每张图片后添加1，以使得w*data[i,:].T+b转变为[w,b]*[data[i,:],1].T，从而在训练时用一个矩阵乘法同时更新权重w和偏置b\n",
    "        data = traindata.copy() #复制一遍输入数据\n",
    "        temp = np.ones((self.imgnum,1)) #创建一个增添的全为1的维度\n",
    "        self.traindata = np.hstack((data,temp)) #traindata读到类里面，此时的self.traindata.shape=(50000,3073)\n",
    "        self.trainlabels = trainlabels #将trainlabels全部读取到类里面\n",
    "        \n",
    "        w = np.random.rand(self.classnum,self.traindata.shape[1])#初始化一个随机的维度为(10,3073)的权重矩阵\n",
    "        return w\n",
    "    \n",
    "    def train(self,w,delta,lambda_reg):\n",
    "        #初始化本轮训练损失和权重w的负梯度\n",
    "        Loss = 0\n",
    "        dW=np.zeros(w.shape)\n",
    "        for i in range(self.imgnum):\n",
    "            #计算每一类的得分\n",
    "            #np.dot(w,self.traindata[i,:].T).shape=(10,),np.sum(w*w,1)为按行求和,shape=(10,)\n",
    "            #这里的scores为可能为每个分类的得分，维度为(10,)\n",
    "            scores = np.dot(w,self.traindata[i,:].T)\n",
    "            #第i张图片的正确分类的得分\n",
    "            rightscores = scores[int(self.trainlabels[i])] #trainlabels[i]为第i张图片的分类，也就是scores里对应分类的下标\n",
    "            \n",
    "            #计算正则化的第i张图片的第j个分类得分对Li的贡献，维度为(10,)。注意这里的正则化被我拆分到了每一个分类里面分别计算\n",
    "            Lij = scores - rightscores + delta + lambda_reg*np.sum(w*w,1) #np.sum(w*w,1)：对w按行求平方和\n",
    "            #初始化每张图片的损失Li\n",
    "            Li = 0\n",
    "            for j in range(self.classnum):\n",
    "                #错误分类与正确分类得分未达到边界时，迭代权重w\n",
    "                if j != int(self.trainlabels[i]) and Lij[j] > 0:\n",
    "                    Li += Lij[j]\n",
    "                    dW[j,:] += self.traindata[i,:]\n",
    "                    dW[int(self.trainlabels[i]),:] -= self.traindata[i,:]\n",
    "            Loss += Li\n",
    "        #计算本轮训练的平均损失和负梯度\n",
    "        Loss /= self.imgnum\n",
    "        dW /= self.imgnum\n",
    "        return Loss,dW\n",
    "                    \n",
    " \n",
    "    def predict(self,w,testdata):\n",
    "        #得到测试集总图片数，并保存到testimg_num内\n",
    "        testimg_num = testdata.shape[0]\n",
    "        \n",
    "        #为每张图片后添加1，以使得w*data[i,:].T+b转变为[w,b]*[data[i,:],1].T，从而在训练时用一个矩阵乘法同时更新权重w和偏置b\n",
    "        data = testdata.copy() #复制一遍输入数据\n",
    "        temp = np.ones((testimg_num,1)) #创建一个增添的全为1的维度\n",
    "        self.testdata = np.hstack((data,temp)) #testdata读到类里面，此时的self.testdata.shape=(10000,3073)\n",
    "        \n",
    "        #创建一个维度为(testimg_num，)的np.array，用于存储预测的标签\n",
    "        predlabels = np.zeros(testimg_num, dtype = self.trainlabels.dtype)\n",
    "        #遍历训练集\n",
    "        for i in range(testimg_num):\n",
    "            #计算测试图片各类别得分\n",
    "            scores = np.dot(w,self.testdata[i,:].T)\n",
    "            predlabels[i] = np.argmax(scores) # 记录下得分最高的类别标签\n",
    "        #返回预测标签\n",
    "        return predlabels"
   ]
  },
  {
   "cell_type": "code",
   "execution_count": 3,
   "metadata": {},
   "outputs": [],
   "source": [
    "#读取训练集和测试集的数据和标签\n",
    "traindata,trainlabels,testdata,testlabels = CreatData(\"D:/Personal_documents/DXY/code/LearningForML/cifar-10-batches-py/\")\n",
    "\n",
    "#实例化一个多类SVM的类\n",
    "msvm = MulticlassSVM()\n",
    "#调用类中的train函数训练(实则为将训练数据全部读取)\n",
    "w = msvm.loaddata(traindata, trainlabels)\n",
    "\n",
    "#设置超参数，训练次数trainnum，delta=1在正则化的条件下是安全的，正则化项的参数lambda_reg，学习率alpha\n",
    "trainnum = 100\n",
    "delta = 1\n",
    "lambda_reg = 0.5\n",
    "alpha = 0.0001\n",
    "\n",
    "loss = np.zeros(trainnum)#初始化损失\n",
    "predictaccuracy = np.zeros(trainnum)#初始化预测准确率，用于保存每一次训练后的准确率\n",
    "for i in range(trainnum):\n",
    "    loss[i],dw = msvm.train(w,delta,lambda_reg)#计算损失和梯度\n",
    "    w -= alpha * dw#更新梯度\n",
    "    #调用类中的predict函数预测标签\n",
    "    testlabels_predict = msvm.predict(w,testdata)\n",
    "    #比对测试集标签，计算准确率。\n",
    "    predictaccuracy[i] = np.mean(testlabels_predict == testlabels)"
   ]
  },
  {
   "cell_type": "code",
   "execution_count": 4,
   "metadata": {},
   "outputs": [
    {
     "data": {
      "text/plain": [
       "[<matplotlib.lines.Line2D at 0x27f779fa888>]"
      ]
     },
     "execution_count": 4,
     "metadata": {},
     "output_type": "execute_result"
    },
    {
     "data": {
      "image/png": "[encoded data removed]",
      "text/plain": [
       "<Figure size 432x288 with 1 Axes>"
      ]
     },
     "metadata": {
      "needs_background": "light"
     },
     "output_type": "display_data"
    }
   ],
   "source": [
    "#作出每次训练后损失的图像\n",
    "import matplotlib.pyplot as plt\n",
    "x = np.zeros(trainnum)\n",
    "for i in range(trainnum):\n",
    "    x[i] = i\n",
    "plt.plot(x,loss)"
   ]
  },
  {
   "cell_type": "code",
   "execution_count": 5,
   "metadata": {},
   "outputs": [
    {
     "data": {
      "text/plain": [
       "[<matplotlib.lines.Line2D at 0x27f77ab9648>]"
      ]
     },
     "execution_count": 5,
     "metadata": {},
     "output_type": "execute_result"
    },
    {
     "data": {
      "image/png": "[encoded data removed]",
      "text/plain": [
       "<Figure size 432x288 with 1 Axes>"
      ]
     },
     "metadata": {
      "needs_background": "light"
     },
     "output_type": "display_data"
    }
   ],
   "source": [
    "#作出每次训练后准确率的图像\n",
    "plt.plot(x,predictaccuracy)"
   ]
  }
 ],
 "metadata": {
  "kernelspec": {
   "display_name": "Python 3",
   "language": "python",
   "name": "python3"
  },
  "language_info": {
   "codemirror_mode": {
    "name": "ipython",
    "version": 3
   },
   "file_extension": ".py",
   "mimetype": "text/x-python",
   "name": "python",
   "nbconvert_exporter": "python",
   "pygments_lexer": "ipython3",
   "version": "3.7.6"
  }
 },
 "nbformat": 4,
 "nbformat_minor": 4
}
