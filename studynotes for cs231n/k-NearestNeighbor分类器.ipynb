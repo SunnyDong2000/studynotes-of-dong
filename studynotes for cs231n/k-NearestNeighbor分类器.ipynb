{
 "cells": [
  {
   "cell_type": "code",
   "execution_count": 1,
   "metadata": {},
   "outputs": [],
   "source": [
    "import numpy as np\n",
    "import heapq"
   ]
  },
  {
   "cell_type": "code",
   "execution_count": 2,
   "metadata": {},
   "outputs": [],
   "source": [
    "#解码数据集 函数为CIFAR-10提供的python3版本\n",
    "def unpickle(file):\n",
    "    import pickle\n",
    "    with open(file, 'rb') as fo:\n",
    "        dict = pickle.load(fo, encoding='bytes')\n",
    "    return dict\n",
    "\n",
    "#创建训练集和测试集\n",
    "def CreatData(path):\n",
    "    #依次加载CIFAR-10的5个batch_data,并将其合并为traindata和traindlabels\n",
    "    x=[]\n",
    "    y=[]\n",
    "    for i in range(1,6):\n",
    "        batch_path=path + 'data_batch_%d'%(i) #每个batch的地址\n",
    "        batch_dict=unpickle(batch_path) #解码每个batch\n",
    "        train_batch=batch_dict[b'data'].astype('float') #将每个batch的data部分以float形式存储于train_batch变量\n",
    "        train_labels=np.array(batch_dict[b'labels']) #将每个batch的label部分以np.array的形式存储于train_labels变量\n",
    "        x.append(train_batch)\n",
    "        y.append(train_labels)\n",
    "    #将5个训练样本batch(10000,3072)合并为(50000,3072)，标签合并为(50000,1)\n",
    "    #np.concatenate默认axis=0:按行合并，axis=1则为:按列合并\n",
    "    traindata=np.concatenate(x)\n",
    "    trainlabels=np.concatenate(y)\n",
    "    \n",
    "    #加载测试集\n",
    "    testpath=path + 'test_batch' #test_batch的地址\n",
    "    test_dict=unpickle(testpath) #解码test_batch\n",
    "    testdata=test_dict[b'data'].astype('float') #将test_dict的data部分以float形式存储于testdata变量\n",
    "    testlabels=np.array(test_dict[b'labels']) #将test_dict的labels部分以np.array形式存储于testlabels变量\n",
    "    \n",
    "    #将训练集数据、训练集标签、测试集数据、测试集标签返回\n",
    "    return traindata,trainlabels,testdata,testlabels\n",
    "\n",
    "#分出一个含1000张图片的验证集\n",
    "def split_validationset(traindata,trainlabels):\n",
    "    validationdata = traindata[:1000, :]\n",
    "    validationlabels = trainlabels[:1000]\n",
    "    traindata = traindata[1000:, :]\n",
    "    trainlabels = trainlabels[1000:]\n",
    "    return traindata,trainlabels,validationdata,validationlabels\n",
    "\n",
    "class NearestNeighborClassifier:\n",
    "    def __init__(self):\n",
    "        pass\n",
    "    def train(self,traindata,trainlabels):\n",
    "        #将traindata和trainlabels全部读取到类里面\n",
    "        self.traindata = traindata\n",
    "        self.trainlabels = trainlabels\n",
    " \n",
    "    def predict(self,testdata,k):\n",
    "        #得到测试集总图片数，并保存到testimg_num内\n",
    "        testimg_num = testdata.shape[0]\n",
    "        #创建一个维度为(testimg_num，)的np.array，用于存储预测的标签\n",
    "        predlabels = np.zeros(testimg_num, dtype = self.trainlabels.dtype)\n",
    "        predtemp = np.zeros(k, dtype = self.trainlabels.dtype)\n",
    "        #遍历训练集\n",
    "        for i in range(testimg_num):\n",
    "            #计算测试图片与训练集中所有图片的l1距离，并找到最近的图片\n",
    "            distances = np.sum(np.abs(self.traindata - testdata[i,:]),axis = 1)#axis=0:列求和 axis=1:行求和\n",
    "            mindistances_index = list(map(list(distances).index, heapq.nsmallest(k, distances))) #取最近k张图片的下标\n",
    "            #heapq.nlargest(k, distances)返回distances最小的k个元素\n",
    "            #map(list(distances).index, heapq.nsmallest(k, distances))则返回distances最小的k个元素对应的索引，调用list.index()函数来寻找\n",
    "            #mindistances_index最终以list形式储存最近的k张图片的索引\n",
    "            \n",
    "            #将最近的k张图片所对应的标签存储于predtemp中\n",
    "            for j in range(k):\n",
    "                predtemp[j] = self.trainlabels[mindistances_index[j]]\n",
    "            predlabels[i] = np.argmax(np.bincount(np.uint(predtemp))) #记录下出现次数最多的标签，作为预测的标签\n",
    "            #np.bincount(x)统计x内0到max(x)中每个整数出现的次数\n",
    "        #返回预测标签\n",
    "        return predlabels"
   ]
  },
  {
   "cell_type": "code",
   "execution_count": 7,
   "metadata": {},
   "outputs": [
    {
     "name": "stdout",
     "output_type": "stream",
     "text": [
      "accuracy: 0.3753\n"
     ]
    }
   ],
   "source": [
    "#读取训练集和测试集的数据和标签\n",
    "traindata,trainlabels,testdata,testlabels = CreatData(\"D:/Personal_documents/DXY/code/LearningForML/cifar-10-batches-py/\")\n",
    "#分理处验证集\n",
    "traindata,trainlabels,validationdata,validationlabels = split_validationset(traindata,trainlabels)\n",
    "#实例化一个最近邻分类的类\n",
    "nn = NearestNeighborClassifier()\n",
    "#调用类中的train函数训练(实则为将训练数据全部读取)\n",
    "nn.train(traindata, trainlabels)\n",
    "\n",
    "knum = 10 #设置总共比对多少个超参数k的结果\n",
    "accuracy = np.zeros(knum) #将每个超参数k的结果存储\n",
    "for i in range(knum):\n",
    "    #调用类中的predict函数预测标签\n",
    "    validationlabels_predict = nn.predict(validationdata,2 * i + 1)\n",
    "    #比对验证集标签，计算准确率。\n",
    "    accuracy[i] = np.mean(validationlabels_predict == validationlabels)\n",
    "\n",
    "k = np.argmax(accuracy) * 2 + 1 #得到准确率最高的k值\n",
    "testlabels_predict = nn.predict(testdata,k) #预测测试集标签\n",
    "print('accuracy:',np.mean(testlabels_predict == testlabels))"
   ]
  },
  {
   "cell_type": "code",
   "execution_count": 8,
   "metadata": {},
   "outputs": [
    {
     "data": {
      "text/plain": [
       "[<matplotlib.lines.Line2D at 0x198725183c8>]"
      ]
     },
     "execution_count": 8,
     "metadata": {},
     "output_type": "execute_result"
    },
    {
     "data": {
      "image/png": "[encoded data removed]",
      "text/plain": [
       "<Figure size 432x288 with 1 Axes>"
      ]
     },
     "metadata": {
      "needs_background": "light"
     },
     "output_type": "display_data"
    }
   ],
   "source": [
    "#不同k值的准确率\n",
    "import matplotlib.pyplot as plt\n",
    "x = np.zeros(knum)\n",
    "for i in range(knum):\n",
    "    x[i] = 2 * i + 1\n",
    "plt.plot(x,accuracy)"
   ]
  }
 ],
 "metadata": {
  "kernelspec": {
   "display_name": "Python 3",
   "language": "python",
   "name": "python3"
  },
  "language_info": {
   "codemirror_mode": {
    "name": "ipython",
    "version": 3
   },
   "file_extension": ".py",
   "mimetype": "text/x-python",
   "name": "python",
   "nbconvert_exporter": "python",
   "pygments_lexer": "ipython3",
   "version": "3.7.6"
  }
 },
 "nbformat": 4,
 "nbformat_minor": 4
}
